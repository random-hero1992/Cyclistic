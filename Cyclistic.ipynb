{
 "cells": [
  {
   "cell_type": "code",
   "execution_count": 1,
   "id": "2269d4f4",
   "metadata": {},
   "outputs": [],
   "source": [
    "# Import modules\n",
    "from pyspark.sql import SparkSession\n",
    "from pyspark.sql.types import *\n",
    "from pyspark.sql.functions import *\n",
    "spark = SparkSession.builder.getOrCreate()"
   ]
  },
  {
   "cell_type": "code",
   "execution_count": 2,
   "id": "9ea737d2",
   "metadata": {},
   "outputs": [
    {
     "name": "stdout",
     "output_type": "stream",
     "text": [
      "(4073561, 13)\n"
     ]
    }
   ],
   "source": [
    "# Read .csv files into individual dataframes\n",
    "ds1=spark.read.csv('202006-divvy-tripdata.csv', header=True)\n",
    "ds2=spark.read.csv('202007-divvy-tripdata.csv', header=True)\n",
    "ds3=spark.read.csv('202008-divvy-tripdata.csv', header=True)\n",
    "ds4=spark.read.csv('202009-divvy-tripdata.csv', header=True)\n",
    "ds5=spark.read.csv('202010-divvy-tripdata.csv', header=True)\n",
    "ds6=spark.read.csv('202011-divvy-tripdata.csv', header=True)\n",
    "ds7=spark.read.csv('202012-divvy-tripdata.csv', header=True)\n",
    "ds8=spark.read.csv('202101-divvy-tripdata.csv', header=True)\n",
    "ds9=spark.read.csv('202102-divvy-tripdata.csv', header=True)\n",
    "ds10=spark.read.csv('202103-divvy-tripdata.csv', header=True)\n",
    "ds11=spark.read.csv('202104-divvy-tripdata.csv', header=True)\n",
    "ds12=spark.read.csv('202105-divvy-tripdata.csv', header=True)\n",
    "\n",
    "# Merge all datasets to one dataframe\n",
    "ds=ds1.union(ds2).union(ds3).union(ds4).union(ds5).union(ds6).union(ds7).union(ds8).union(ds9).union(ds10).union(ds11).union(ds12)\n",
    "\n",
    "# Print number of records and columns\n",
    "print((ds.count(), len(ds.columns)))"
   ]
  },
  {
   "cell_type": "code",
   "execution_count": 3,
   "id": "dfcf1913",
   "metadata": {},
   "outputs": [
    {
     "data": {
      "text/plain": [
       "Row(ride_id='8CD5DE2C2B6C4CFC', rideable_type='docked_bike', started_at='2020-06-13 23:24:48', ended_at='2020-06-13 23:36:55', start_station_name='Wilton Ave & Belmont Ave', start_station_id='117', end_station_name='Damen Ave & Clybourn Ave', end_station_id='163', start_lat='41.94018', start_lng='-87.65304', end_lat='41.931931', end_lng='-87.677856', member_casual='casual')"
      ]
     },
     "execution_count": 3,
     "metadata": {},
     "output_type": "execute_result"
    }
   ],
   "source": [
    "# Show the first row of data\n",
    "ds.first()"
   ]
  },
  {
   "cell_type": "code",
   "execution_count": 4,
   "id": "58b46ac0",
   "metadata": {},
   "outputs": [
    {
     "name": "stdout",
     "output_type": "stream",
     "text": [
      "+----------------+-------------+-------------------+-------------------+--------------------+----------------+--------------------+--------------+---------+----------+---------+----------+-------------+\n",
      "|         ride_id|rideable_type|         started_at|           ended_at|  start_station_name|start_station_id|    end_station_name|end_station_id|start_lat| start_lng|  end_lat|   end_lng|member_casual|\n",
      "+----------------+-------------+-------------------+-------------------+--------------------+----------------+--------------------+--------------+---------+----------+---------+----------+-------------+\n",
      "|8CD5DE2C2B6C4CFC|  docked_bike|2020-06-13 23:24:48|2020-06-13 23:36:55|Wilton Ave & Belm...|             117|Damen Ave & Clybo...|           163| 41.94018| -87.65304|41.931931|-87.677856|       casual|\n",
      "|9A191EB2C751D85D|  docked_bike|2020-06-26 07:26:10|2020-06-26 07:31:58|Federal St & Polk St|              41|  Daley Center Plaza|            81|41.872077|-87.629543|41.884241|-87.629634|       member|\n",
      "|F37D14B0B5659BCF|  docked_bike|2020-06-23 17:12:41|2020-06-23 17:21:14|  Daley Center Plaza|              81|State St & Harris...|             5|41.884241|-87.629634|41.874053|-87.627716|       member|\n",
      "|C41237B506E85FA1|  docked_bike|2020-06-20 01:09:35|2020-06-20 01:28:24|Broadway & Cornel...|             303|Broadway & Berwyn...|           294|41.945529|-87.646439|41.978353|-87.659753|       casual|\n",
      "|4B51B3B0BDA7787C|  docked_bike|2020-06-25 16:59:25|2020-06-25 17:08:48|Sheffield Ave & W...|             327|Wilton Ave & Belm...|           117| 41.92154|-87.653818| 41.94018| -87.65304|       casual|\n",
      "+----------------+-------------+-------------------+-------------------+--------------------+----------------+--------------------+--------------+---------+----------+---------+----------+-------------+\n",
      "only showing top 5 rows\n",
      "\n"
     ]
    }
   ],
   "source": [
    "# Show the first five rows of data\n",
    "ds.show(5)"
   ]
  },
  {
   "cell_type": "code",
   "execution_count": 5,
   "id": "8cbae791",
   "metadata": {},
   "outputs": [
    {
     "data": {
      "text/plain": [
       "4073561"
      ]
     },
     "execution_count": 5,
     "metadata": {},
     "output_type": "execute_result"
    }
   ],
   "source": [
    "# Remove duplicate rows and count all rows again\n",
    "ds.dropDuplicates().count()"
   ]
  },
  {
   "cell_type": "code",
   "execution_count": 6,
   "id": "74a40fbb",
   "metadata": {},
   "outputs": [
    {
     "name": "stdout",
     "output_type": "stream",
     "text": [
      "+----------------+-------------+-------------------+-------------------+--------------------+----------------+--------------------+--------------+---------+----------+---------+----------+-------------+\n",
      "|         ride_id|rideable_type|         started_at|           ended_at|  start_station_name|start_station_id|    end_station_name|end_station_id|start_lat| start_lng|  end_lat|   end_lng|member_casual|\n",
      "+----------------+-------------+-------------------+-------------------+--------------------+----------------+--------------------+--------------+---------+----------+---------+----------+-------------+\n",
      "|8CD5DE2C2B6C4CFC|  docked_bike|2020-06-13 23:24:48|2020-06-13 23:36:55|Wilton Ave & Belm...|             117|Damen Ave & Clybo...|           163| 41.94018| -87.65304|41.931931|-87.677856|       casual|\n",
      "|9A191EB2C751D85D|  docked_bike|2020-06-26 07:26:10|2020-06-26 07:31:58|Federal St & Polk St|              41|  Daley Center Plaza|            81|41.872077|-87.629543|41.884241|-87.629634|       member|\n",
      "|F37D14B0B5659BCF|  docked_bike|2020-06-23 17:12:41|2020-06-23 17:21:14|  Daley Center Plaza|              81|State St & Harris...|             5|41.884241|-87.629634|41.874053|-87.627716|       member|\n",
      "|C41237B506E85FA1|  docked_bike|2020-06-20 01:09:35|2020-06-20 01:28:24|Broadway & Cornel...|             303|Broadway & Berwyn...|           294|41.945529|-87.646439|41.978353|-87.659753|       casual|\n",
      "|4B51B3B0BDA7787C|  docked_bike|2020-06-25 16:59:25|2020-06-25 17:08:48|Sheffield Ave & W...|             327|Wilton Ave & Belm...|           117| 41.92154|-87.653818| 41.94018| -87.65304|       casual|\n",
      "+----------------+-------------+-------------------+-------------------+--------------------+----------------+--------------------+--------------+---------+----------+---------+----------+-------------+\n",
      "only showing top 5 rows\n",
      "\n",
      "4073561\n"
     ]
    }
   ],
   "source": [
    "# Clean date fields\n",
    "ds.filter(\"started_at IS NOT NULL and ended_at IS NOT NULL\").show(5)\n",
    "print(ds.count())"
   ]
  },
  {
   "cell_type": "code",
   "execution_count": 7,
   "id": "1747d90a",
   "metadata": {},
   "outputs": [
    {
     "name": "stdout",
     "output_type": "stream",
     "text": [
      "+---------+----------+---------+----------+------------------+\n",
      "|start_lat| start_lng|  end_lat|   end_lng| distance_traveled|\n",
      "+---------+----------+---------+----------+------------------+\n",
      "| 41.94018| -87.65304|41.931931|-87.677856| 2248.317583317838|\n",
      "|41.872077|-87.629543|41.884241|-87.629634|1352.5960705541047|\n",
      "|41.884241|-87.629634|41.874053|-87.627716|1143.9287821509456|\n",
      "|41.945529|-87.646439|41.978353|-87.659753|3812.2639415619205|\n",
      "| 41.92154|-87.653818| 41.94018| -87.65304|2073.6724042245105|\n",
      "+---------+----------+---------+----------+------------------+\n",
      "only showing top 5 rows\n",
      "\n"
     ]
    }
   ],
   "source": [
    "# Create a column for distance traveled in meters using start and end lat-lng\n",
    "import pyspark.sql.functions as F\n",
    "ds = ds.withColumn(\"a\", (\n",
    "        F.pow(F.sin(F.radians(F.col(\"end_lat\") - F.col(\"start_lat\")) / 2), 2) +\n",
    "        F.cos(F.radians(F.col(\"start_lat\"))) * F.cos(F.radians(F.col(\"end_lat\"))) *\n",
    "        F.pow(F.sin(F.radians(F.col(\"end_lng\") - F.col(\"start_lng\")) / 2), 2)\n",
    "    )).withColumn(\"distance_traveled\", F.atan2(F.sqrt(F.col(\"a\")), F.sqrt(-F.col(\"a\") + 1)) * 12742000)\n",
    "\n",
    "# View the new column to verify it was successfully created\n",
    "ds.select('start_lat', 'start_lng', 'end_lat', 'end_lng', 'distance_traveled').show(5)"
   ]
  },
  {
   "cell_type": "code",
   "execution_count": 8,
   "id": "6997811d",
   "metadata": {},
   "outputs": [
    {
     "name": "stdout",
     "output_type": "stream",
     "text": [
      "+-------------------+-------------------+-------------+---------+\n",
      "|         started_at|           ended_at|member_casual|date_diff|\n",
      "+-------------------+-------------------+-------------+---------+\n",
      "|2020-09-02 18:34:33|2020-10-10 11:17:54|       casual|       38|\n",
      "|2021-05-02 02:56:07|2021-06-08 13:37:43|       casual|       37|\n",
      "|2020-09-06 23:20:29|2020-10-12 11:46:25|       casual|       36|\n",
      "|2020-07-05 14:25:39|2020-08-09 07:11:06|       casual|       35|\n",
      "|2020-09-05 08:50:15|2020-10-10 13:43:02|       casual|       35|\n",
      "|2020-07-05 01:51:06|2020-08-08 12:13:19|       casual|       34|\n",
      "|2020-07-07 14:36:11|2020-08-09 19:13:11|       casual|       33|\n",
      "|2020-07-02 19:49:10|2020-08-04 18:00:37|       casual|       33|\n",
      "|2021-04-02 17:50:00|2021-05-05 22:06:42|       casual|       33|\n",
      "|2020-07-02 17:26:55|2020-08-04 07:16:12|       casual|       33|\n",
      "+-------------------+-------------------+-------------+---------+\n",
      "only showing top 10 rows\n",
      "\n"
     ]
    }
   ],
   "source": [
    "# Create a column that finds the date difference and show it in descending order\n",
    "ds = ds.withColumn('date_diff', F.datediff(F.to_date(ds.ended_at), F.to_date(ds.started_at)))\n",
    "ds.select('started_at', 'ended_at', 'member_casual', 'date_diff').sort(ds.date_diff.desc()).show(10)"
   ]
  },
  {
   "cell_type": "code",
   "execution_count": 9,
   "id": "29ba1606",
   "metadata": {},
   "outputs": [
    {
     "name": "stdout",
     "output_type": "stream",
     "text": [
      "+-------------------+-------------------+-------------+---------+\n",
      "|         started_at|           ended_at|member_casual|date_diff|\n",
      "+-------------------+-------------------+-------------+---------+\n",
      "|2020-12-15 11:39:19|2020-11-25 10:16:59|       member|      -20|\n",
      "|2020-12-15 11:42:13|2020-11-25 10:50:56|       casual|      -20|\n",
      "|2020-12-15 11:37:49|2020-11-25 09:04:08|       casual|      -20|\n",
      "|2020-12-15 12:11:41|2020-11-25 20:03:07|       casual|      -20|\n",
      "|2020-12-15 12:05:43|2020-11-25 20:20:05|       member|      -20|\n",
      "|2020-12-15 12:15:37|2020-11-25 16:38:59|       casual|      -20|\n",
      "|2020-12-15 11:51:59|2020-11-25 14:16:40|       casual|      -20|\n",
      "|2020-12-15 12:12:41|2020-11-25 13:52:21|       member|      -20|\n",
      "|2020-12-15 11:48:35|2020-11-25 13:21:43|       member|      -20|\n",
      "|2020-12-15 11:50:32|2020-11-25 14:06:37|       member|      -20|\n",
      "+-------------------+-------------------+-------------+---------+\n",
      "only showing top 10 rows\n",
      "\n"
     ]
    }
   ],
   "source": [
    "# Order the date difference in ascending order\n",
    "ds.select('started_at', 'ended_at', 'member_casual', 'date_diff').sort(ds.date_diff.asc()).show(10)"
   ]
  },
  {
   "cell_type": "code",
   "execution_count": 10,
   "id": "77db042a",
   "metadata": {},
   "outputs": [
    {
     "data": {
      "text/plain": [
       "4073182"
      ]
     },
     "execution_count": 10,
     "metadata": {},
     "output_type": "execute_result"
    }
   ],
   "source": [
    "# Remove records where end date comes before start date\n",
    "ds = ds.filter(col('date_diff').cast(LongType()) >= 0)\n",
    "ds.count()"
   ]
  },
  {
   "cell_type": "code",
   "execution_count": 11,
   "id": "389b5b00",
   "metadata": {},
   "outputs": [
    {
     "name": "stdout",
     "output_type": "stream",
     "text": [
      "+-------------------+-------------------+-------------+---------+\n",
      "|         started_at|           ended_at|member_casual|date_diff|\n",
      "+-------------------+-------------------+-------------+---------+\n",
      "|2020-06-28 11:40:46|2020-06-28 11:54:49|       casual|        0|\n",
      "|2020-06-06 14:53:58|2020-06-06 15:18:05|       casual|        0|\n",
      "|2020-06-17 09:55:08|2020-06-17 10:05:52|       casual|        0|\n",
      "|2020-06-14 18:48:05|2020-06-14 20:18:44|       casual|        0|\n",
      "|2020-06-04 17:23:09|2020-06-04 17:50:05|       casual|        0|\n",
      "|2020-06-06 17:44:41|2020-06-06 17:53:51|       casual|        0|\n",
      "|2020-06-17 18:36:11|2020-06-17 18:42:58|       member|        0|\n",
      "|2020-06-28 07:19:49|2020-06-28 08:18:24|       casual|        0|\n",
      "|2020-06-24 21:29:59|2020-06-24 21:48:24|       member|        0|\n",
      "|2020-06-24 21:29:09|2020-06-24 21:29:15|       member|        0|\n",
      "+-------------------+-------------------+-------------+---------+\n",
      "only showing top 10 rows\n",
      "\n"
     ]
    }
   ],
   "source": [
    "# Order the date difference in ascending order\n",
    "ds.select('started_at', 'ended_at', 'member_casual', 'date_diff').sort(ds.date_diff.asc()).show(10)"
   ]
  },
  {
   "cell_type": "code",
   "execution_count": 12,
   "id": "cfbec7d9",
   "metadata": {},
   "outputs": [
    {
     "name": "stdout",
     "output_type": "stream",
     "text": [
      "+-------------------+-------------------+-------------+---------+------------------+------------------+\n",
      "|         started_at|           ended_at|member_casual|date_diff| distance_traveled|   duration_in_min|\n",
      "+-------------------+-------------------+-------------+---------+------------------+------------------+\n",
      "|2020-06-13 23:24:48|2020-06-13 23:36:55|       casual|        0| 2248.317583317838|12.116666666666742|\n",
      "|2020-06-26 07:26:10|2020-06-26 07:31:58|       member|        0|1352.5960705541047| 5.799999999999973|\n",
      "|2020-06-23 17:12:41|2020-06-23 17:21:14|       member|        0|1143.9287821509456| 8.550000000000015|\n",
      "|2020-06-20 01:09:35|2020-06-20 01:28:24|       casual|        0|3812.2639415619205|18.816666666666674|\n",
      "|2020-06-25 16:59:25|2020-06-25 17:08:48|       casual|        0|2073.6724042245105| 9.383333333333288|\n",
      "|2020-06-17 18:07:18|2020-06-17 18:18:14|       casual|        0|2073.6724042245105|10.933333333333348|\n",
      "|2020-06-25 07:24:33|2020-06-25 07:31:11|       member|        0|1352.5960705541047| 6.633333333333337|\n",
      "|2020-06-19 00:00:56|2020-06-19 00:09:15|       casual|        0|1151.4433445280395| 8.316666666666666|\n",
      "|2020-06-30 12:11:36|2020-06-30 12:32:43|       member|        0| 3409.736781797531|21.116666666666696|\n",
      "|2020-06-28 14:17:09|2020-06-28 14:27:51|       member|        0|1212.1449337239346|10.700000000000022|\n",
      "+-------------------+-------------------+-------------+---------+------------------+------------------+\n",
      "only showing top 10 rows\n",
      "\n"
     ]
    }
   ],
   "source": [
    "# Calculate time difference to find the duration in minutes for each trip using .minute, .second and .hour functions\n",
    "ds = ds.withColumn('duration_in_min', (ds.date_diff*24*60) + F.hour(ds.ended_at)*60 + F.minute(ds.ended_at) +\n",
    "                  F.second(ds.ended_at)/60 - F.hour(ds.started_at)*60 - F.minute(ds.started_at) - F.second(ds.started_at)/60)\n",
    "\n",
    "# Confirm the calculation worked\n",
    "ds.select('started_at', 'ended_at', 'member_casual', 'date_diff', 'distance_traveled', 'duration_in_min').show(10)\n",
    "\n",
    "# We can check if the duration of each trip in minutes is correct using started_at and ended_at columns"
   ]
  },
  {
   "cell_type": "code",
   "execution_count": 13,
   "id": "392d8418",
   "metadata": {},
   "outputs": [
    {
     "name": "stdout",
     "output_type": "stream",
     "text": [
      "+-------+------------------+-------------------+\n",
      "|summary| distance_traveled|    duration_in_min|\n",
      "+-------+------------------+-------------------+\n",
      "|  count|           4068146|            4073182|\n",
      "|   mean|2221.8403058682056| 26.882429780942754|\n",
      "| stddev|2025.9532818899672| 236.67822964689256|\n",
      "|    min|               0.0|-120.30000000000004|\n",
      "|    25%| 865.4421767937478|  7.666666666666614|\n",
      "|    50%|1674.9411822309112| 14.016666666666575|\n",
      "|    75%|3018.4110032739354|              25.85|\n",
      "|    max| 48370.80097108494|           54283.35|\n",
      "+-------+------------------+-------------------+\n",
      "\n"
     ]
    }
   ],
   "source": [
    "# View the summary of the calculated fields distance and duration\n",
    "ds.select('distance_traveled', 'duration_in_min').summary().show()"
   ]
  },
  {
   "cell_type": "code",
   "execution_count": 14,
   "id": "a5c545e4",
   "metadata": {},
   "outputs": [
    {
     "name": "stdout",
     "output_type": "stream",
     "text": [
      "+-------------------+-------------------+---------+-------------------+\n",
      "|         started_at|           ended_at|date_diff|    duration_in_min|\n",
      "+-------------------+-------------------+---------+-------------------+\n",
      "|2020-07-25 15:08:21|2020-07-25 13:08:03|        0|-120.30000000000004|\n",
      "|2020-10-16 16:44:52|2020-10-16 15:09:51|        0| -95.01666666666664|\n",
      "|2020-10-16 16:44:53|2020-10-16 15:10:54|        0| -93.98333333333336|\n",
      "|2020-10-16 16:44:55|2020-10-16 15:11:27|        0| -93.46666666666663|\n",
      "|2020-10-16 16:44:56|2020-10-16 15:43:14|        0| -61.69999999999998|\n",
      "|2020-10-16 16:44:58|2020-10-16 15:45:03|        0|-59.916666666666714|\n",
      "|2020-11-01 01:57:30|2020-11-01 01:00:39|        0|             -56.85|\n",
      "|2020-11-01 01:56:26|2020-11-01 01:00:29|        0|-55.949999999999996|\n",
      "|2020-11-01 01:55:57|2020-11-01 01:02:04|        0| -53.88333333333333|\n",
      "|2020-11-01 01:54:40|2020-11-01 01:01:34|        0|-53.099999999999994|\n",
      "+-------------------+-------------------+---------+-------------------+\n",
      "only showing top 10 rows\n",
      "\n"
     ]
    }
   ],
   "source": [
    "# Duration of a trip can't be negative as seen above, further check by sorting\n",
    "ds.select('started_at', 'ended_at', 'date_diff', 'duration_in_min').sort(ds.duration_in_min.asc()).show(10)"
   ]
  },
  {
   "cell_type": "code",
   "execution_count": 15,
   "id": "1dbb4391",
   "metadata": {},
   "outputs": [
    {
     "data": {
      "text/plain": [
       "4063030"
      ]
     },
     "execution_count": 15,
     "metadata": {},
     "output_type": "execute_result"
    }
   ],
   "source": [
    "# Remove negative observations from duration column\n",
    "ds = ds.filter(col('duration_in_min') >= 0.0)\n",
    "ds.count()"
   ]
  },
  {
   "cell_type": "code",
   "execution_count": 16,
   "id": "89698085",
   "metadata": {},
   "outputs": [
    {
     "name": "stdout",
     "output_type": "stream",
     "text": [
      "+-------------------+-------------------+-------------+---------+------------------+------------------+-----------+\n",
      "|         started_at|           ended_at|member_casual|date_diff| distance_traveled|   duration_in_min|day_of_week|\n",
      "+-------------------+-------------------+-------------+---------+------------------+------------------+-----------+\n",
      "|2020-06-13 23:24:48|2020-06-13 23:36:55|       casual|        0| 2248.317583317838|12.116666666666742|   Saturday|\n",
      "|2020-06-26 07:26:10|2020-06-26 07:31:58|       member|        0|1352.5960705541047| 5.799999999999973|     Friday|\n",
      "|2020-06-23 17:12:41|2020-06-23 17:21:14|       member|        0|1143.9287821509456| 8.550000000000015|    Tuesday|\n",
      "|2020-06-20 01:09:35|2020-06-20 01:28:24|       casual|        0|3812.2639415619205|18.816666666666674|   Saturday|\n",
      "|2020-06-25 16:59:25|2020-06-25 17:08:48|       casual|        0|2073.6724042245105| 9.383333333333288|   Thursday|\n",
      "|2020-06-17 18:07:18|2020-06-17 18:18:14|       casual|        0|2073.6724042245105|10.933333333333348|  Wednesday|\n",
      "|2020-06-25 07:24:33|2020-06-25 07:31:11|       member|        0|1352.5960705541047| 6.633333333333337|   Thursday|\n",
      "|2020-06-19 00:00:56|2020-06-19 00:09:15|       casual|        0|1151.4433445280395| 8.316666666666666|     Friday|\n",
      "|2020-06-30 12:11:36|2020-06-30 12:32:43|       member|        0| 3409.736781797531|21.116666666666696|    Tuesday|\n",
      "|2020-06-28 14:17:09|2020-06-28 14:27:51|       member|        0|1212.1449337239346|10.700000000000022|     Sunday|\n",
      "+-------------------+-------------------+-------------+---------+------------------+------------------+-----------+\n",
      "only showing top 10 rows\n",
      "\n"
     ]
    }
   ],
   "source": [
    "# Create a column for day of the week\n",
    "ds = ds.withColumn(\"day_of_week\", date_format(col('started_at'), 'EEEE'))\n",
    "\n",
    "# Confirm the calculation worked\n",
    "ds.select('started_at', 'ended_at', 'member_casual', 'date_diff', 'distance_traveled', 'duration_in_min', 'day_of_week').show(10)"
   ]
  },
  {
   "cell_type": "code",
   "execution_count": 17,
   "id": "d85d646a",
   "metadata": {},
   "outputs": [
    {
     "name": "stdout",
     "output_type": "stream",
     "text": [
      "+-------------+-------+\n",
      "|member_casual|  count|\n",
      "+-------------+-------+\n",
      "|       casual|1710107|\n",
      "|       member|2352923|\n",
      "|         null|4063030|\n",
      "+-------------+-------+\n",
      "\n"
     ]
    }
   ],
   "source": [
    "# Casual vs. member distribution (null represents total number of records)\n",
    "ds.cube('member_casual').count().show()"
   ]
  },
  {
   "cell_type": "code",
   "execution_count": 18,
   "id": "4c504f7c",
   "metadata": {},
   "outputs": [
    {
     "name": "stdout",
     "output_type": "stream",
     "text": [
      "+-----------+-------+\n",
      "|day_of_week|  count|\n",
      "+-----------+-------+\n",
      "|  Wednesday| 529720|\n",
      "|   Thursday| 533708|\n",
      "|    Tuesday| 503792|\n",
      "|     Monday| 503884|\n",
      "|     Friday| 597210|\n",
      "|     Sunday| 637741|\n",
      "|   Saturday| 756975|\n",
      "|       null|4063030|\n",
      "+-----------+-------+\n",
      "\n"
     ]
    }
   ],
   "source": [
    "# Frequency distribution of day of the week\n",
    "ds.cube('day_of_week').count().show()"
   ]
  },
  {
   "cell_type": "code",
   "execution_count": 19,
   "id": "d1fad0f1",
   "metadata": {},
   "outputs": [
    {
     "name": "stdout",
     "output_type": "stream",
     "text": [
      "+-------------+-------+\n",
      "|rideable_type|  count|\n",
      "+-------------+-------+\n",
      "|  docked_bike|2331251|\n",
      "|electric_bike| 888224|\n",
      "| classic_bike| 843555|\n",
      "|         null|4063030|\n",
      "+-------------+-------+\n",
      "\n"
     ]
    }
   ],
   "source": [
    "# Frequency distribution of bike types\n",
    "ds.cube('rideable_type').count().show()"
   ]
  },
  {
   "cell_type": "code",
   "execution_count": 21,
   "id": "0f8bfed7",
   "metadata": {},
   "outputs": [
    {
     "name": "stdout",
     "output_type": "stream",
     "text": [
      "(4063030, 18)\n"
     ]
    }
   ],
   "source": [
    "# Fill null values with 'missing data'\n",
    "ds = ds.na.fill('missing_data')\n",
    "ds = ds.orderBy('started_at')\n",
    "print((ds.count(), len(ds.columns)))"
   ]
  },
  {
   "cell_type": "code",
   "execution_count": 22,
   "id": "4e1f9de9",
   "metadata": {},
   "outputs": [],
   "source": [
    "# Drop unnecessary columns to reduce file size of export\n",
    "ds = ds.drop('ride_id')\n",
    "ds = ds.drop('start_station_id')\n",
    "ds = ds.drop('end_station_id')\n",
    "ds = ds.drop('start_lat')\n",
    "ds = ds.drop('end_lat')\n",
    "ds = ds.drop('start_lng')\n",
    "ds = ds.drop('end_lng')\n",
    "ds = ds.drop('a')\n",
    "ds = ds.drop('date_diff')\n",
    "\n",
    "# Export dataset as a .csv file\n",
    "ds.repartition(1).write.csv(\"cyclistic_export.csv\", header=True)"
   ]
  }
 ],
 "metadata": {
  "kernelspec": {
   "display_name": "Python 3 (ipykernel)",
   "language": "python",
   "name": "python3"
  },
  "language_info": {
   "codemirror_mode": {
    "name": "ipython",
    "version": 3
   },
   "file_extension": ".py",
   "mimetype": "text/x-python",
   "name": "python",
   "nbconvert_exporter": "python",
   "pygments_lexer": "ipython3",
   "version": "3.9.7"
  }
 },
 "nbformat": 4,
 "nbformat_minor": 5
}
